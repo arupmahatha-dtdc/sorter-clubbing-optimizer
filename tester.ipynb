{
 "cells": [
  {
   "cell_type": "code",
   "execution_count": 1,
   "id": "fc4a48a7",
   "metadata": {},
   "outputs": [
    {
     "name": "stdout",
     "output_type": "stream",
     "text": [
      "Sum of filtered values: 13.0\n"
     ]
    }
   ],
   "source": [
    "from algorithms import filter_and_sum\n",
    "\n",
    "result = filter_and_sum(\n",
    "    type_=\"Volume\",\n",
    "    mode=\"Air\",\n",
    "    org_branch=\"W06-BALASORE BRANCH\",\n",
    "    des_city=\"BHUBANESHWAR\",\n",
    ")\n",
    "print(\"Sum of filtered values:\", result)"
   ]
  },
  {
   "cell_type": "code",
   "execution_count": null,
   "id": "3393cd84",
   "metadata": {},
   "outputs": [],
   "source": []
  }
 ],
 "metadata": {
  "kernelspec": {
   "display_name": "Python 3",
   "language": "python",
   "name": "python3"
  },
  "language_info": {
   "codemirror_mode": {
    "name": "ipython",
    "version": 3
   },
   "file_extension": ".py",
   "mimetype": "text/x-python",
   "name": "python",
   "nbconvert_exporter": "python",
   "pygments_lexer": "ipython3",
   "version": "3.10.17"
  }
 },
 "nbformat": 4,
 "nbformat_minor": 5
}
