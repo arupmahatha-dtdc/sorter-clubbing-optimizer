{
 "cells": [
  {
   "cell_type": "code",
   "execution_count": 4,
   "id": "fc4a48a7",
   "metadata": {},
   "outputs": [
    {
     "name": "stdout",
     "output_type": "stream",
     "text": [
      "Sum of filtered values: 40.0\n"
     ]
    }
   ],
   "source": [
    "from algorithms import filter_and_sum\n",
    "\n",
    "result = filter_and_sum(\n",
    "        org_zone=None,\n",
    "        org_region=None,\n",
    "        org_city=None,\n",
    "        org_branch=\"W09-ANGUL BRANCH\",\n",
    "        org_product=\"BS\",\n",
    "        type_=\"Volume\",\n",
    "        des_zone=None,\n",
    "        des_region=None,\n",
    "        des_city=\"BHUBANESHWAR\",\n",
    "        des_branch=None\n",
    "    )\n",
    "print(\"Sum of filtered values:\", result)"
   ]
  },
  {
   "cell_type": "code",
   "execution_count": null,
   "id": "7ace978b",
   "metadata": {},
   "outputs": [],
   "source": []
  }
 ],
 "metadata": {
  "kernelspec": {
   "display_name": "Python 3",
   "language": "python",
   "name": "python3"
  },
  "language_info": {
   "codemirror_mode": {
    "name": "ipython",
    "version": 3
   },
   "file_extension": ".py",
   "mimetype": "text/x-python",
   "name": "python",
   "nbconvert_exporter": "python",
   "pygments_lexer": "ipython3",
   "version": "3.10.17"
  }
 },
 "nbformat": 4,
 "nbformat_minor": 5
}
